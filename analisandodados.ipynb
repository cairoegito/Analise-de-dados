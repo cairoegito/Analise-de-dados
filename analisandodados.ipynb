{
  "nbformat": 4,
  "nbformat_minor": 0,
  "metadata": {
    "colab": {
      "name": "analisandodados.ipynb",
      "provenance": [],
      "mount_file_id": "1duAIEjFH1DYufVRiNmMXxnfAmb0WtHkc",
      "authorship_tag": "ABX9TyNKf++F1LYtYnH+CqkZO5Id",
      "include_colab_link": true
    },
    "kernelspec": {
      "name": "python3",
      "display_name": "Python 3"
    },
    "language_info": {
      "name": "python"
    }
  },
  "cells": [
    {
      "cell_type": "markdown",
      "metadata": {
        "id": "view-in-github",
        "colab_type": "text"
      },
      "source": [
        "<a href=\"https://colab.research.google.com/github/cairoegito/Analise-de-dados/blob/main/analisandodados.ipynb\" target=\"_parent\"><img src=\"https://colab.research.google.com/assets/colab-badge.svg\" alt=\"Open In Colab\"/></a>"
      ]
    },
    {
      "cell_type": "code",
      "execution_count": 1,
      "metadata": {
        "colab": {
          "base_uri": "https://localhost:8080/"
        },
        "id": "uxniwoNvckue",
        "outputId": "dabea1de-cb0d-49f8-9405-88ee0101d503"
      },
      "outputs": [
        {
          "output_type": "stream",
          "name": "stderr",
          "text": [
            "/usr/local/lib/python3.7/dist-packages/IPython/core/interactiveshell.py:2882: DtypeWarning: Columns (5) have mixed types.Specify dtype option on import or set low_memory=False.\n",
            "  exec(code_obj, self.user_global_ns, self.user_ns)\n"
          ]
        }
      ],
      "source": [
        "import pandas as pd\n",
        "import matplotlib.pyplot as plt\n",
        "dados = pd.read_csv(\"/content/drive/MyDrive/atlcrime.csv\")"
      ]
    },
    {
      "cell_type": "code",
      "source": [
        "dados.head()"
      ],
      "metadata": {
        "id": "wwHt4XZdevmJ",
        "outputId": "dbab5bbd-cd62-4be2-cea5-e461736156f7",
        "colab": {
          "base_uri": "https://localhost:8080/",
          "height": 206
        }
      },
      "execution_count": null,
      "outputs": [
        {
          "output_type": "execute_result",
          "data": {
            "text/plain": [
              "   Unnamed: 0                 crime     number        date  \\\n",
              "0           0   LARCENY-NON VEHICLE  103040029  10/31/2010   \n",
              "1           1            AUTO THEFT  103040061  10/31/2010   \n",
              "2           2  LARCENY-FROM VEHICLE  103040169  10/31/2010   \n",
              "3           3            AUTO THEFT  103040174  10/31/2010   \n",
              "4           4   LARCENY-NON VEHICLE  103040301  10/31/2010   \n",
              "\n",
              "                                  location beat        neighborhood npu  \\\n",
              "0                         610 SPRING ST NW  509            Downtown   M   \n",
              "1                            850 OAK ST SW  401            West End   T   \n",
              "2                1344 METROPOLITAN PKWY SW  301  Capitol View Manor   X   \n",
              "3                         1752 PRYOR RD SW  307      Betmar LaVilla   Y   \n",
              "4  JOHN WESLEY DOBBS AVE NE / CORLEY ST NE  604     Old Fourth Ward   M   \n",
              "\n",
              "        lat      long  \n",
              "0  33.77101 -84.38895  \n",
              "1  33.74057 -84.41680  \n",
              "2  33.71803 -84.40774  \n",
              "3  33.70731 -84.39674  \n",
              "4  33.75947 -84.36626  "
            ],
            "text/html": [
              "\n",
              "  <div id=\"df-c22b9582-b627-4ac5-b35c-c2a8ab98cb3e\">\n",
              "    <div class=\"colab-df-container\">\n",
              "      <div>\n",
              "<style scoped>\n",
              "    .dataframe tbody tr th:only-of-type {\n",
              "        vertical-align: middle;\n",
              "    }\n",
              "\n",
              "    .dataframe tbody tr th {\n",
              "        vertical-align: top;\n",
              "    }\n",
              "\n",
              "    .dataframe thead th {\n",
              "        text-align: right;\n",
              "    }\n",
              "</style>\n",
              "<table border=\"1\" class=\"dataframe\">\n",
              "  <thead>\n",
              "    <tr style=\"text-align: right;\">\n",
              "      <th></th>\n",
              "      <th>Unnamed: 0</th>\n",
              "      <th>crime</th>\n",
              "      <th>number</th>\n",
              "      <th>date</th>\n",
              "      <th>location</th>\n",
              "      <th>beat</th>\n",
              "      <th>neighborhood</th>\n",
              "      <th>npu</th>\n",
              "      <th>lat</th>\n",
              "      <th>long</th>\n",
              "    </tr>\n",
              "  </thead>\n",
              "  <tbody>\n",
              "    <tr>\n",
              "      <th>0</th>\n",
              "      <td>0</td>\n",
              "      <td>LARCENY-NON VEHICLE</td>\n",
              "      <td>103040029</td>\n",
              "      <td>10/31/2010</td>\n",
              "      <td>610 SPRING ST NW</td>\n",
              "      <td>509</td>\n",
              "      <td>Downtown</td>\n",
              "      <td>M</td>\n",
              "      <td>33.77101</td>\n",
              "      <td>-84.38895</td>\n",
              "    </tr>\n",
              "    <tr>\n",
              "      <th>1</th>\n",
              "      <td>1</td>\n",
              "      <td>AUTO THEFT</td>\n",
              "      <td>103040061</td>\n",
              "      <td>10/31/2010</td>\n",
              "      <td>850 OAK ST SW</td>\n",
              "      <td>401</td>\n",
              "      <td>West End</td>\n",
              "      <td>T</td>\n",
              "      <td>33.74057</td>\n",
              "      <td>-84.41680</td>\n",
              "    </tr>\n",
              "    <tr>\n",
              "      <th>2</th>\n",
              "      <td>2</td>\n",
              "      <td>LARCENY-FROM VEHICLE</td>\n",
              "      <td>103040169</td>\n",
              "      <td>10/31/2010</td>\n",
              "      <td>1344 METROPOLITAN PKWY SW</td>\n",
              "      <td>301</td>\n",
              "      <td>Capitol View Manor</td>\n",
              "      <td>X</td>\n",
              "      <td>33.71803</td>\n",
              "      <td>-84.40774</td>\n",
              "    </tr>\n",
              "    <tr>\n",
              "      <th>3</th>\n",
              "      <td>3</td>\n",
              "      <td>AUTO THEFT</td>\n",
              "      <td>103040174</td>\n",
              "      <td>10/31/2010</td>\n",
              "      <td>1752 PRYOR RD SW</td>\n",
              "      <td>307</td>\n",
              "      <td>Betmar LaVilla</td>\n",
              "      <td>Y</td>\n",
              "      <td>33.70731</td>\n",
              "      <td>-84.39674</td>\n",
              "    </tr>\n",
              "    <tr>\n",
              "      <th>4</th>\n",
              "      <td>4</td>\n",
              "      <td>LARCENY-NON VEHICLE</td>\n",
              "      <td>103040301</td>\n",
              "      <td>10/31/2010</td>\n",
              "      <td>JOHN WESLEY DOBBS AVE NE / CORLEY ST NE</td>\n",
              "      <td>604</td>\n",
              "      <td>Old Fourth Ward</td>\n",
              "      <td>M</td>\n",
              "      <td>33.75947</td>\n",
              "      <td>-84.36626</td>\n",
              "    </tr>\n",
              "  </tbody>\n",
              "</table>\n",
              "</div>\n",
              "      <button class=\"colab-df-convert\" onclick=\"convertToInteractive('df-c22b9582-b627-4ac5-b35c-c2a8ab98cb3e')\"\n",
              "              title=\"Convert this dataframe to an interactive table.\"\n",
              "              style=\"display:none;\">\n",
              "        \n",
              "  <svg xmlns=\"http://www.w3.org/2000/svg\" height=\"24px\"viewBox=\"0 0 24 24\"\n",
              "       width=\"24px\">\n",
              "    <path d=\"M0 0h24v24H0V0z\" fill=\"none\"/>\n",
              "    <path d=\"M18.56 5.44l.94 2.06.94-2.06 2.06-.94-2.06-.94-.94-2.06-.94 2.06-2.06.94zm-11 1L8.5 8.5l.94-2.06 2.06-.94-2.06-.94L8.5 2.5l-.94 2.06-2.06.94zm10 10l.94 2.06.94-2.06 2.06-.94-2.06-.94-.94-2.06-.94 2.06-2.06.94z\"/><path d=\"M17.41 7.96l-1.37-1.37c-.4-.4-.92-.59-1.43-.59-.52 0-1.04.2-1.43.59L10.3 9.45l-7.72 7.72c-.78.78-.78 2.05 0 2.83L4 21.41c.39.39.9.59 1.41.59.51 0 1.02-.2 1.41-.59l7.78-7.78 2.81-2.81c.8-.78.8-2.07 0-2.86zM5.41 20L4 18.59l7.72-7.72 1.47 1.35L5.41 20z\"/>\n",
              "  </svg>\n",
              "      </button>\n",
              "      \n",
              "  <style>\n",
              "    .colab-df-container {\n",
              "      display:flex;\n",
              "      flex-wrap:wrap;\n",
              "      gap: 12px;\n",
              "    }\n",
              "\n",
              "    .colab-df-convert {\n",
              "      background-color: #E8F0FE;\n",
              "      border: none;\n",
              "      border-radius: 50%;\n",
              "      cursor: pointer;\n",
              "      display: none;\n",
              "      fill: #1967D2;\n",
              "      height: 32px;\n",
              "      padding: 0 0 0 0;\n",
              "      width: 32px;\n",
              "    }\n",
              "\n",
              "    .colab-df-convert:hover {\n",
              "      background-color: #E2EBFA;\n",
              "      box-shadow: 0px 1px 2px rgba(60, 64, 67, 0.3), 0px 1px 3px 1px rgba(60, 64, 67, 0.15);\n",
              "      fill: #174EA6;\n",
              "    }\n",
              "\n",
              "    [theme=dark] .colab-df-convert {\n",
              "      background-color: #3B4455;\n",
              "      fill: #D2E3FC;\n",
              "    }\n",
              "\n",
              "    [theme=dark] .colab-df-convert:hover {\n",
              "      background-color: #434B5C;\n",
              "      box-shadow: 0px 1px 3px 1px rgba(0, 0, 0, 0.15);\n",
              "      filter: drop-shadow(0px 1px 2px rgba(0, 0, 0, 0.3));\n",
              "      fill: #FFFFFF;\n",
              "    }\n",
              "  </style>\n",
              "\n",
              "      <script>\n",
              "        const buttonEl =\n",
              "          document.querySelector('#df-c22b9582-b627-4ac5-b35c-c2a8ab98cb3e button.colab-df-convert');\n",
              "        buttonEl.style.display =\n",
              "          google.colab.kernel.accessAllowed ? 'block' : 'none';\n",
              "\n",
              "        async function convertToInteractive(key) {\n",
              "          const element = document.querySelector('#df-c22b9582-b627-4ac5-b35c-c2a8ab98cb3e');\n",
              "          const dataTable =\n",
              "            await google.colab.kernel.invokeFunction('convertToInteractive',\n",
              "                                                     [key], {});\n",
              "          if (!dataTable) return;\n",
              "\n",
              "          const docLinkHtml = 'Like what you see? Visit the ' +\n",
              "            '<a target=\"_blank\" href=https://colab.research.google.com/notebooks/data_table.ipynb>data table notebook</a>'\n",
              "            + ' to learn more about interactive tables.';\n",
              "          element.innerHTML = '';\n",
              "          dataTable['output_type'] = 'display_data';\n",
              "          await google.colab.output.renderOutput(dataTable, element);\n",
              "          const docLink = document.createElement('div');\n",
              "          docLink.innerHTML = docLinkHtml;\n",
              "          element.appendChild(docLink);\n",
              "        }\n",
              "      </script>\n",
              "    </div>\n",
              "  </div>\n",
              "  "
            ]
          },
          "metadata": {},
          "execution_count": 2
        }
      ]
    },
    {
      "cell_type": "code",
      "source": [
        "# Vamos analisar o tamanho de nossos dados\n",
        "dados.shape"
      ],
      "metadata": {
        "colab": {
          "base_uri": "https://localhost:8080/"
        },
        "id": "H7QDum5e92Wb",
        "outputId": "d53df40b-9e19-493a-9b5b-6ba2e9700ffe"
      },
      "execution_count": 2,
      "outputs": [
        {
          "output_type": "execute_result",
          "data": {
            "text/plain": [
              "(270688, 10)"
            ]
          },
          "metadata": {},
          "execution_count": 2
        }
      ]
    },
    {
      "cell_type": "code",
      "source": [
        "# Variação das estatísticas da latitude, isso auxilia na localidade dos crimes, regiões onde os mesmos são mais frequentes\n",
        "dados.hist(column = \"lat\", bins = 5)\n",
        "plt.show()\n"
      ],
      "metadata": {
        "id": "QHGygJVK_lhc",
        "colab": {
          "base_uri": "https://localhost:8080/",
          "height": 281
        },
        "outputId": "de21a902-87df-4e81-fdf4-b4710c651b0d"
      },
      "execution_count": 3,
      "outputs": [
        {
          "output_type": "display_data",
          "data": {
            "text/plain": [
              "<Figure size 432x288 with 1 Axes>"
            ],
            "image/png": "[encoded data removed]"
          },
          "metadata": {
            "needs_background": "light"
          }
        }
      ]
    },
    {
      "cell_type": "code",
      "source": [
        "# Tipos de crimes na cidade de Atlanta\n",
        "dados[\"crime\"].unique()"
      ],
      "metadata": {
        "colab": {
          "base_uri": "https://localhost:8080/"
        },
        "id": "ArLPFPyv61xI",
        "outputId": "d7c9f6d2-7cdf-4744-c0cc-0179b7f1ce5d"
      },
      "execution_count": 4,
      "outputs": [
        {
          "output_type": "execute_result",
          "data": {
            "text/plain": [
              "array(['LARCENY-NON VEHICLE', 'AUTO THEFT', 'LARCENY-FROM VEHICLE',\n",
              "       'BURGLARY-RESIDENCE', 'ROBBERY-PEDESTRIAN', 'AGG ASSAULT', 'RAPE',\n",
              "       'BURGLARY-NONRES', 'HOMICIDE', 'ROBBERY-RESIDENCE',\n",
              "       'ROBBERY-COMMERCIAL'], dtype=object)"
            ]
          },
          "metadata": {},
          "execution_count": 4
        }
      ]
    },
    {
      "cell_type": "code",
      "source": [
        "# Descrição das informações\n",
        "dados.describe()"
      ],
      "metadata": {
        "colab": {
          "base_uri": "https://localhost:8080/",
          "height": 300
        },
        "id": "bmQbXCskEacg",
        "outputId": "ad81c803-5235-4912-8e5c-d645479506c7"
      },
      "execution_count": 5,
      "outputs": [
        {
          "output_type": "execute_result",
          "data": {
            "text/plain": [
              "          Unnamed: 0        number            lat           long\n",
              "count  270688.000000  2.706880e+05  270688.000000  270688.000000\n",
              "mean   135343.500000  4.705194e+08      33.755246     -84.408178\n",
              "std     78141.039171  6.768886e+09       0.045540       0.047298\n",
              "min         0.000000  7.269234e+07      33.460100     -84.550500\n",
              "25%     67671.750000  1.029113e+08      33.727780     -84.433880\n",
              "50%    135343.500000  1.227606e+08      33.755380     -84.397520\n",
              "75%    203015.250000  1.432412e+08      33.780140     -84.374090\n",
              "max    270687.000000  1.704427e+11      33.886130     -84.286410"
            ],
            "text/html": [
              "\n",
              "  <div id=\"df-d69e3365-2d5a-4aba-9e88-1b66b54e551d\">\n",
              "    <div class=\"colab-df-container\">\n",
              "      <div>\n",
              "<style scoped>\n",
              "    .dataframe tbody tr th:only-of-type {\n",
              "        vertical-align: middle;\n",
              "    }\n",
              "\n",
              "    .dataframe tbody tr th {\n",
              "        vertical-align: top;\n",
              "    }\n",
              "\n",
              "    .dataframe thead th {\n",
              "        text-align: right;\n",
              "    }\n",
              "</style>\n",
              "<table border=\"1\" class=\"dataframe\">\n",
              "  <thead>\n",
              "    <tr style=\"text-align: right;\">\n",
              "      <th></th>\n",
              "      <th>Unnamed: 0</th>\n",
              "      <th>number</th>\n",
              "      <th>lat</th>\n",
              "      <th>long</th>\n",
              "    </tr>\n",
              "  </thead>\n",
              "  <tbody>\n",
              "    <tr>\n",
              "      <th>count</th>\n",
              "      <td>270688.000000</td>\n",
              "      <td>2.706880e+05</td>\n",
              "      <td>270688.000000</td>\n",
              "      <td>270688.000000</td>\n",
              "    </tr>\n",
              "    <tr>\n",
              "      <th>mean</th>\n",
              "      <td>135343.500000</td>\n",
              "      <td>4.705194e+08</td>\n",
              "      <td>33.755246</td>\n",
              "      <td>-84.408178</td>\n",
              "    </tr>\n",
              "    <tr>\n",
              "      <th>std</th>\n",
              "      <td>78141.039171</td>\n",
              "      <td>6.768886e+09</td>\n",
              "      <td>0.045540</td>\n",
              "      <td>0.047298</td>\n",
              "    </tr>\n",
              "    <tr>\n",
              "      <th>min</th>\n",
              "      <td>0.000000</td>\n",
              "      <td>7.269234e+07</td>\n",
              "      <td>33.460100</td>\n",
              "      <td>-84.550500</td>\n",
              "    </tr>\n",
              "    <tr>\n",
              "      <th>25%</th>\n",
              "      <td>67671.750000</td>\n",
              "      <td>1.029113e+08</td>\n",
              "      <td>33.727780</td>\n",
              "      <td>-84.433880</td>\n",
              "    </tr>\n",
              "    <tr>\n",
              "      <th>50%</th>\n",
              "      <td>135343.500000</td>\n",
              "      <td>1.227606e+08</td>\n",
              "      <td>33.755380</td>\n",
              "      <td>-84.397520</td>\n",
              "    </tr>\n",
              "    <tr>\n",
              "      <th>75%</th>\n",
              "      <td>203015.250000</td>\n",
              "      <td>1.432412e+08</td>\n",
              "      <td>33.780140</td>\n",
              "      <td>-84.374090</td>\n",
              "    </tr>\n",
              "    <tr>\n",
              "      <th>max</th>\n",
              "      <td>270687.000000</td>\n",
              "      <td>1.704427e+11</td>\n",
              "      <td>33.886130</td>\n",
              "      <td>-84.286410</td>\n",
              "    </tr>\n",
              "  </tbody>\n",
              "</table>\n",
              "</div>\n",
              "      <button class=\"colab-df-convert\" onclick=\"convertToInteractive('df-d69e3365-2d5a-4aba-9e88-1b66b54e551d')\"\n",
              "              title=\"Convert this dataframe to an interactive table.\"\n",
              "              style=\"display:none;\">\n",
              "        \n",
              "  <svg xmlns=\"http://www.w3.org/2000/svg\" height=\"24px\"viewBox=\"0 0 24 24\"\n",
              "       width=\"24px\">\n",
              "    <path d=\"M0 0h24v24H0V0z\" fill=\"none\"/>\n",
              "    <path d=\"M18.56 5.44l.94 2.06.94-2.06 2.06-.94-2.06-.94-.94-2.06-.94 2.06-2.06.94zm-11 1L8.5 8.5l.94-2.06 2.06-.94-2.06-.94L8.5 2.5l-.94 2.06-2.06.94zm10 10l.94 2.06.94-2.06 2.06-.94-2.06-.94-.94-2.06-.94 2.06-2.06.94z\"/><path d=\"M17.41 7.96l-1.37-1.37c-.4-.4-.92-.59-1.43-.59-.52 0-1.04.2-1.43.59L10.3 9.45l-7.72 7.72c-.78.78-.78 2.05 0 2.83L4 21.41c.39.39.9.59 1.41.59.51 0 1.02-.2 1.41-.59l7.78-7.78 2.81-2.81c.8-.78.8-2.07 0-2.86zM5.41 20L4 18.59l7.72-7.72 1.47 1.35L5.41 20z\"/>\n",
              "  </svg>\n",
              "      </button>\n",
              "      \n",
              "  <style>\n",
              "    .colab-df-container {\n",
              "      display:flex;\n",
              "      flex-wrap:wrap;\n",
              "      gap: 12px;\n",
              "    }\n",
              "\n",
              "    .colab-df-convert {\n",
              "      background-color: #E8F0FE;\n",
              "      border: none;\n",
              "      border-radius: 50%;\n",
              "      cursor: pointer;\n",
              "      display: none;\n",
              "      fill: #1967D2;\n",
              "      height: 32px;\n",
              "      padding: 0 0 0 0;\n",
              "      width: 32px;\n",
              "    }\n",
              "\n",
              "    .colab-df-convert:hover {\n",
              "      background-color: #E2EBFA;\n",
              "      box-shadow: 0px 1px 2px rgba(60, 64, 67, 0.3), 0px 1px 3px 1px rgba(60, 64, 67, 0.15);\n",
              "      fill: #174EA6;\n",
              "    }\n",
              "\n",
              "    [theme=dark] .colab-df-convert {\n",
              "      background-color: #3B4455;\n",
              "      fill: #D2E3FC;\n",
              "    }\n",
              "\n",
              "    [theme=dark] .colab-df-convert:hover {\n",
              "      background-color: #434B5C;\n",
              "      box-shadow: 0px 1px 3px 1px rgba(0, 0, 0, 0.15);\n",
              "      filter: drop-shadow(0px 1px 2px rgba(0, 0, 0, 0.3));\n",
              "      fill: #FFFFFF;\n",
              "    }\n",
              "  </style>\n",
              "\n",
              "      <script>\n",
              "        const buttonEl =\n",
              "          document.querySelector('#df-d69e3365-2d5a-4aba-9e88-1b66b54e551d button.colab-df-convert');\n",
              "        buttonEl.style.display =\n",
              "          google.colab.kernel.accessAllowed ? 'block' : 'none';\n",
              "\n",
              "        async function convertToInteractive(key) {\n",
              "          const element = document.querySelector('#df-d69e3365-2d5a-4aba-9e88-1b66b54e551d');\n",
              "          const dataTable =\n",
              "            await google.colab.kernel.invokeFunction('convertToInteractive',\n",
              "                                                     [key], {});\n",
              "          if (!dataTable) return;\n",
              "\n",
              "          const docLinkHtml = 'Like what you see? Visit the ' +\n",
              "            '<a target=\"_blank\" href=https://colab.research.google.com/notebooks/data_table.ipynb>data table notebook</a>'\n",
              "            + ' to learn more about interactive tables.';\n",
              "          element.innerHTML = '';\n",
              "          dataTable['output_type'] = 'display_data';\n",
              "          await google.colab.output.renderOutput(dataTable, element);\n",
              "          const docLink = document.createElement('div');\n",
              "          docLink.innerHTML = docLinkHtml;\n",
              "          element.appendChild(docLink);\n",
              "        }\n",
              "      </script>\n",
              "    </div>\n",
              "  </div>\n",
              "  "
            ]
          },
          "metadata": {},
          "execution_count": 5
        }
      ]
    },
    {
      "cell_type": "code",
      "source": [
        "# Contagem dos tipos de crimes\n",
        "dados[\"crime\"].value_counts()"
      ],
      "metadata": {
        "colab": {
          "base_uri": "https://localhost:8080/"
        },
        "id": "6DbkgQHdGRyD",
        "outputId": "5ed80595-3965-4ef3-877a-c6126239132f"
      },
      "execution_count": 6,
      "outputs": [
        {
          "output_type": "execute_result",
          "data": {
            "text/plain": [
              "LARCENY-FROM VEHICLE    77345\n",
              "LARCENY-NON VEHICLE     64697\n",
              "BURGLARY-RESIDENCE      42941\n",
              "AUTO THEFT              38168\n",
              "AGG ASSAULT             19133\n",
              "ROBBERY-PEDESTRIAN      14446\n",
              "BURGLARY-NONRES          8505\n",
              "ROBBERY-RESIDENCE        1880\n",
              "ROBBERY-COMMERCIAL       1855\n",
              "RAPE                      990\n",
              "HOMICIDE                  728\n",
              "Name: crime, dtype: int64"
            ]
          },
          "metadata": {},
          "execution_count": 6
        }
      ]
    },
    {
      "cell_type": "code",
      "source": [
        "# Gráfico para uma visualização prática\n",
        "plt.ylabel(\"Quantidade de crimes\")\n",
        "dados[\"crime\"].value_counts().plot.bar()"
      ],
      "metadata": {
        "colab": {
          "base_uri": "https://localhost:8080/",
          "height": 395
        },
        "id": "sqdEORn0Iact",
        "outputId": "95d34145-ba55-4bc5-8a6d-bd736ab137e9"
      },
      "execution_count": null,
      "outputs": [
        {
          "output_type": "execute_result",
          "data": {
            "text/plain": [
              "<matplotlib.axes._subplots.AxesSubplot at 0x7f62d9a23f50>"
            ]
          },
          "metadata": {},
          "execution_count": 12
        },
        {
          "output_type": "display_data",
          "data": {
            "text/plain": [
              "<Figure size 432x288 with 1 Axes>"
            ],
            "image/png": "[encoded data removed]"
          },
          "metadata": {
            "needs_background": "light"
          }
        }
      ]
    },
    {
      "cell_type": "code",
      "source": [
        "# Gráfico para uma visualização prática alternativa\n",
        "plt.ylabel(\"Quantidade de crimes\")\n",
        "dados[\"crime\"].value_counts().plot.pie()"
      ],
      "metadata": {
        "colab": {
          "base_uri": "https://localhost:8080/",
          "height": 265
        },
        "id": "WaTJ_KwoLwiS",
        "outputId": "1cde7e90-2abb-4dc9-8861-face5306610e"
      },
      "execution_count": null,
      "outputs": [
        {
          "output_type": "execute_result",
          "data": {
            "text/plain": [
              "<matplotlib.axes._subplots.AxesSubplot at 0x7f62d9981e50>"
            ]
          },
          "metadata": {},
          "execution_count": 14
        },
        {
          "output_type": "display_data",
          "data": {
            "text/plain": [
              "<Figure size 432x288 with 1 Axes>"
            ],
            "image/png": "[encoded data removed]"
          },
          "metadata": {}
        }
      ]
    },
    {
      "cell_type": "code",
      "source": [
        "# Analisando melhor o crime hediondo do homicídio, que é uma grande minoria\n",
        "homic = dados.loc[dados[\"crime\"] == \"homicide\"]\n",
        "print(homic)"
      ],
      "metadata": {
        "colab": {
          "base_uri": "https://localhost:8080/"
        },
        "id": "3nTDOcyeMhHo",
        "outputId": "fd2a26f2-2489-4714-b13b-8b92c9898278"
      },
      "execution_count": 12,
      "outputs": [
        {
          "output_type": "stream",
          "name": "stdout",
          "text": [
            "Empty DataFrame\n",
            "Columns: [Unnamed: 0, crime, number, date, location, beat, neighborhood, npu, lat, long]\n",
            "Index: []\n"
          ]
        }
      ]
    }
  ]
}